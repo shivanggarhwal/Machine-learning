{
 "cells": [
  {
   "cell_type": "markdown",
   "metadata": {},
   "source": [
    "# Linear Regression from Scratch"
   ]
  },
  {
   "cell_type": "code",
   "execution_count": 4,
   "metadata": {},
   "outputs": [],
   "source": [
    "import numpy as np\n",
    "from statistics import mean\n",
    "import matplotlib.pyplot as plt\n",
    "from matplotlib import style\n",
    "style.use('seaborn')"
   ]
  },
  {
   "cell_type": "code",
   "execution_count": 5,
   "metadata": {},
   "outputs": [],
   "source": [
    "x=np.array([1,2,3,4,5], dtype=np.float64)\n",
    "y=np.array([4,8,3,6,7], dtype=np.float64)"
   ]
  },
  {
   "cell_type": "code",
   "execution_count": 6,
   "metadata": {},
   "outputs": [
    {
     "name": "stdout",
     "output_type": "stream",
     "text": [
      "0.09302325581395332\n"
     ]
    }
   ],
   "source": [
    "def best_fit_slope_and_intercept (x,y):\n",
    "    m=(((mean(x)*mean(y))-mean(x*y))/\n",
    "       ((mean(x)*mean(x))-mean(x*x)))\n",
    "    b=mean(y)-m*mean(x)\n",
    "    return m, b\n",
    "\n",
    "def squared_error(y_orig, y_line):\n",
    "    return sum((y_orig-y_line)*(y_orig-y_line))\n",
    "\n",
    "def coefficient_of_determination(y_orig,y_line):\n",
    "    y_mean_line=[mean(y_orig) for y in y_orig]\n",
    "    squared_error_regr=squared_error(y_orig,y_line)\n",
    "    squared_error_y_mean=squared_error(y_orig,y_mean_line)\n",
    "    return 1- (squared_error_regr/squared_error_y_mean)\n",
    "\n",
    "m,b=best_fit_slope_and_intercept(x,y)\n",
    "regression_line=[(m*x)+b for x in x]\n",
    "\n",
    "r_square= coefficient_of_determination(y,regression_line)\n",
    "print(r_square)\n",
    "\n",
    "\n",
    "\n",
    "\n"
   ]
  },
  {
   "cell_type": "markdown",
   "metadata": {},
   "source": [
    "# Creating sample Data Set"
   ]
  },
  {
   "cell_type": "code",
   "execution_count": 34,
   "metadata": {},
   "outputs": [],
   "source": [
    "\n",
    "def create_ds(hm, variance, step=2, correlation=False):\n",
    "    val=1\n",
    "    y=[]\n",
    "    for i in range(hm):\n",
    "        y_=val+ random.randrange(-variance,variance)\n",
    "        y.append(y_)\n",
    "        if correlation and correlation == 'pos':\n",
    "            val+=step\n",
    "        elif correlation and correlation == 'neg':\n",
    "            val-=step\n",
    "    \n",
    "    x=[i for i in range(len(y))]\n",
    "    return np.array(x,dtype=np.float64), np.array(y, dtype=np.float64)"
   ]
  },
  {
   "cell_type": "code",
   "execution_count": 35,
   "metadata": {},
   "outputs": [],
   "source": [
    "x1,y1= create_ds(55,11,2,correlation='pos')"
   ]
  },
  {
   "cell_type": "code",
   "execution_count": 36,
   "metadata": {},
   "outputs": [
    {
     "data": {
      "text/plain": [
       "(55,)"
      ]
     },
     "execution_count": 36,
     "metadata": {},
     "output_type": "execute_result"
    }
   ],
   "source": [
    "x1.shape"
   ]
  },
  {
   "cell_type": "code",
   "execution_count": 33,
   "metadata": {},
   "outputs": [
    {
     "data": {
      "text/plain": [
       "(55,)"
      ]
     },
     "execution_count": 33,
     "metadata": {},
     "output_type": "execute_result"
    }
   ],
   "source": [
    "y1.shape"
   ]
  },
  {
   "cell_type": "code",
   "execution_count": 38,
   "metadata": {
    "scrolled": true
   },
   "outputs": [
    {
     "name": "stdout",
     "output_type": "stream",
     "text": [
      "0.9571766607249647\n"
     ]
    }
   ],
   "source": [
    "m,b=best_fit_slope_and_intercept(x1,y1)\n",
    "regress_line=[(m*x_) for x_ in x1] \n",
    "r_squared= coefficient_of_determination(y,regress_line)\n",
    "print(r_squared)"
   ]
  },
  {
   "cell_type": "markdown",
   "metadata": {},
   "source": [
    "> 0.95 means the r-square explains 95.7% of the variation in data "
   ]
  },
  {
   "cell_type": "code",
   "execution_count": 48,
   "metadata": {},
   "outputs": [
    {
     "data": {
      "image/png": "[encoded data removed]",
      "text/plain": [
       "<Figure size 576x396 with 1 Axes>"
      ]
     },
     "metadata": {},
     "output_type": "display_data"
    }
   ],
   "source": [
    "plt.scatter(x1,y1, label= 'data', color='red')\n",
    "plt.plot(x1, regress_line, label='regression line', color='green')\n",
    "plt.legend(loc='best')\n",
    "plt.ticklabel_format()\n",
    "plt.show()\n"
   ]
  },
  {
   "cell_type": "markdown",
   "metadata": {},
   "source": [
    "> Since correlation is positive so the graphic shows linear positive regression line"
   ]
  }
 ],
 "metadata": {
  "kernelspec": {
   "display_name": "Python 3",
   "language": "python",
   "name": "python3"
  },
  "language_info": {
   "codemirror_mode": {
    "name": "ipython",
    "version": 3
   },
   "file_extension": ".py",
   "mimetype": "text/x-python",
   "name": "python",
   "nbconvert_exporter": "python",
   "pygments_lexer": "ipython3",
   "version": "3.7.4"
  }
 },
 "nbformat": 4,
 "nbformat_minor": 2
}
